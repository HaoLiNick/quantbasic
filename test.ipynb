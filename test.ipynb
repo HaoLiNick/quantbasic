{
 "cells": [
  {
   "cell_type": "code",
   "execution_count": 1,
   "metadata": {},
   "outputs": [],
   "source": [
    "import numpy as np\n",
    "import pandas as pd\n",
    "from pylab import plt,mpl"
   ]
  },
  {
   "cell_type": "code",
   "execution_count": 2,
   "metadata": {},
   "outputs": [],
   "source": [
    "plt.style.use('seaborn')\n",
    "mpl.rcParams['font.family']='serif'"
   ]
  },
  {
   "cell_type": "code",
   "execution_count": 3,
   "metadata": {},
   "outputs": [],
   "source": [
    "%matplotlib inline"
   ]
  },
  {
   "cell_type": "code",
   "execution_count": 4,
   "metadata": {},
   "outputs": [],
   "source": [
    "data=pd.read_csv('tr_eikon_eod_data.csv',index_col=0,parse_dates=True)"
   ]
  },
  {
   "cell_type": "code",
   "execution_count": 6,
   "metadata": {},
   "outputs": [
    {
     "data": {
      "text/html": [
       "<div>\n",
       "<style scoped>\n",
       "    .dataframe tbody tr th:only-of-type {\n",
       "        vertical-align: middle;\n",
       "    }\n",
       "\n",
       "    .dataframe tbody tr th {\n",
       "        vertical-align: top;\n",
       "    }\n",
       "\n",
       "    .dataframe thead th {\n",
       "        text-align: right;\n",
       "    }\n",
       "</style>\n",
       "<table border=\"1\" class=\"dataframe\">\n",
       "  <thead>\n",
       "    <tr style=\"text-align: right;\">\n",
       "      <th></th>\n",
       "      <th>AAPL.O</th>\n",
       "      <th>MSFT.O</th>\n",
       "      <th>INTC.O</th>\n",
       "      <th>AMZN.O</th>\n",
       "      <th>GS.N</th>\n",
       "      <th>SPY</th>\n",
       "      <th>.SPX</th>\n",
       "      <th>.VIX</th>\n",
       "      <th>EUR=</th>\n",
       "      <th>XAU=</th>\n",
       "      <th>GDX</th>\n",
       "      <th>GLD</th>\n",
       "    </tr>\n",
       "    <tr>\n",
       "      <th>Date</th>\n",
       "      <th></th>\n",
       "      <th></th>\n",
       "      <th></th>\n",
       "      <th></th>\n",
       "      <th></th>\n",
       "      <th></th>\n",
       "      <th></th>\n",
       "      <th></th>\n",
       "      <th></th>\n",
       "      <th></th>\n",
       "      <th></th>\n",
       "      <th></th>\n",
       "    </tr>\n",
       "  </thead>\n",
       "  <tbody>\n",
       "    <tr>\n",
       "      <th>2010-01-01</th>\n",
       "      <td>NaN</td>\n",
       "      <td>NaN</td>\n",
       "      <td>NaN</td>\n",
       "      <td>NaN</td>\n",
       "      <td>NaN</td>\n",
       "      <td>NaN</td>\n",
       "      <td>NaN</td>\n",
       "      <td>NaN</td>\n",
       "      <td>1.4323</td>\n",
       "      <td>1096.35</td>\n",
       "      <td>NaN</td>\n",
       "      <td>NaN</td>\n",
       "    </tr>\n",
       "    <tr>\n",
       "      <th>2010-01-04</th>\n",
       "      <td>30.572827</td>\n",
       "      <td>30.950</td>\n",
       "      <td>20.880</td>\n",
       "      <td>133.900</td>\n",
       "      <td>173.08</td>\n",
       "      <td>113.33</td>\n",
       "      <td>1132.99</td>\n",
       "      <td>20.04</td>\n",
       "      <td>1.4411</td>\n",
       "      <td>1120.00</td>\n",
       "      <td>47.71</td>\n",
       "      <td>109.80</td>\n",
       "    </tr>\n",
       "    <tr>\n",
       "      <th>2010-01-05</th>\n",
       "      <td>30.625684</td>\n",
       "      <td>30.960</td>\n",
       "      <td>20.870</td>\n",
       "      <td>134.690</td>\n",
       "      <td>176.14</td>\n",
       "      <td>113.63</td>\n",
       "      <td>1136.52</td>\n",
       "      <td>19.35</td>\n",
       "      <td>1.4368</td>\n",
       "      <td>1118.65</td>\n",
       "      <td>48.17</td>\n",
       "      <td>109.70</td>\n",
       "    </tr>\n",
       "    <tr>\n",
       "      <th>2010-01-06</th>\n",
       "      <td>30.138541</td>\n",
       "      <td>30.770</td>\n",
       "      <td>20.800</td>\n",
       "      <td>132.250</td>\n",
       "      <td>174.26</td>\n",
       "      <td>113.71</td>\n",
       "      <td>1137.14</td>\n",
       "      <td>19.16</td>\n",
       "      <td>1.4412</td>\n",
       "      <td>1138.50</td>\n",
       "      <td>49.34</td>\n",
       "      <td>111.51</td>\n",
       "    </tr>\n",
       "    <tr>\n",
       "      <th>2010-01-07</th>\n",
       "      <td>30.082827</td>\n",
       "      <td>30.452</td>\n",
       "      <td>20.600</td>\n",
       "      <td>130.000</td>\n",
       "      <td>177.67</td>\n",
       "      <td>114.19</td>\n",
       "      <td>1141.69</td>\n",
       "      <td>19.06</td>\n",
       "      <td>1.4318</td>\n",
       "      <td>1131.90</td>\n",
       "      <td>49.10</td>\n",
       "      <td>110.82</td>\n",
       "    </tr>\n",
       "    <tr>\n",
       "      <th>2010-01-08</th>\n",
       "      <td>30.282827</td>\n",
       "      <td>30.660</td>\n",
       "      <td>20.830</td>\n",
       "      <td>133.520</td>\n",
       "      <td>174.31</td>\n",
       "      <td>114.57</td>\n",
       "      <td>1144.98</td>\n",
       "      <td>18.13</td>\n",
       "      <td>1.4412</td>\n",
       "      <td>1136.10</td>\n",
       "      <td>49.84</td>\n",
       "      <td>111.37</td>\n",
       "    </tr>\n",
       "    <tr>\n",
       "      <th>2010-01-11</th>\n",
       "      <td>30.015684</td>\n",
       "      <td>30.270</td>\n",
       "      <td>20.950</td>\n",
       "      <td>130.308</td>\n",
       "      <td>171.56</td>\n",
       "      <td>114.73</td>\n",
       "      <td>1146.98</td>\n",
       "      <td>17.55</td>\n",
       "      <td>1.4513</td>\n",
       "      <td>1152.60</td>\n",
       "      <td>50.17</td>\n",
       "      <td>112.85</td>\n",
       "    </tr>\n",
       "    <tr>\n",
       "      <th>2010-01-12</th>\n",
       "      <td>29.674256</td>\n",
       "      <td>30.070</td>\n",
       "      <td>20.608</td>\n",
       "      <td>127.350</td>\n",
       "      <td>167.82</td>\n",
       "      <td>113.66</td>\n",
       "      <td>1136.22</td>\n",
       "      <td>18.25</td>\n",
       "      <td>1.4494</td>\n",
       "      <td>1127.30</td>\n",
       "      <td>48.35</td>\n",
       "      <td>110.49</td>\n",
       "    </tr>\n",
       "    <tr>\n",
       "      <th>2010-01-13</th>\n",
       "      <td>30.092827</td>\n",
       "      <td>30.350</td>\n",
       "      <td>20.960</td>\n",
       "      <td>129.110</td>\n",
       "      <td>169.07</td>\n",
       "      <td>114.62</td>\n",
       "      <td>1145.68</td>\n",
       "      <td>17.85</td>\n",
       "      <td>1.4510</td>\n",
       "      <td>1138.40</td>\n",
       "      <td>48.86</td>\n",
       "      <td>111.54</td>\n",
       "    </tr>\n",
       "    <tr>\n",
       "      <th>2010-01-14</th>\n",
       "      <td>29.918542</td>\n",
       "      <td>30.960</td>\n",
       "      <td>21.480</td>\n",
       "      <td>127.350</td>\n",
       "      <td>168.53</td>\n",
       "      <td>114.93</td>\n",
       "      <td>1148.46</td>\n",
       "      <td>17.63</td>\n",
       "      <td>1.4502</td>\n",
       "      <td>1142.85</td>\n",
       "      <td>48.60</td>\n",
       "      <td>112.03</td>\n",
       "    </tr>\n",
       "  </tbody>\n",
       "</table>\n",
       "</div>"
      ],
      "text/plain": [
       "               AAPL.O  MSFT.O  INTC.O   AMZN.O    GS.N     SPY     .SPX  \\\n",
       "Date                                                                      \n",
       "2010-01-01        NaN     NaN     NaN      NaN     NaN     NaN      NaN   \n",
       "2010-01-04  30.572827  30.950  20.880  133.900  173.08  113.33  1132.99   \n",
       "2010-01-05  30.625684  30.960  20.870  134.690  176.14  113.63  1136.52   \n",
       "2010-01-06  30.138541  30.770  20.800  132.250  174.26  113.71  1137.14   \n",
       "2010-01-07  30.082827  30.452  20.600  130.000  177.67  114.19  1141.69   \n",
       "2010-01-08  30.282827  30.660  20.830  133.520  174.31  114.57  1144.98   \n",
       "2010-01-11  30.015684  30.270  20.950  130.308  171.56  114.73  1146.98   \n",
       "2010-01-12  29.674256  30.070  20.608  127.350  167.82  113.66  1136.22   \n",
       "2010-01-13  30.092827  30.350  20.960  129.110  169.07  114.62  1145.68   \n",
       "2010-01-14  29.918542  30.960  21.480  127.350  168.53  114.93  1148.46   \n",
       "\n",
       "             .VIX    EUR=     XAU=    GDX     GLD  \n",
       "Date                                               \n",
       "2010-01-01    NaN  1.4323  1096.35    NaN     NaN  \n",
       "2010-01-04  20.04  1.4411  1120.00  47.71  109.80  \n",
       "2010-01-05  19.35  1.4368  1118.65  48.17  109.70  \n",
       "2010-01-06  19.16  1.4412  1138.50  49.34  111.51  \n",
       "2010-01-07  19.06  1.4318  1131.90  49.10  110.82  \n",
       "2010-01-08  18.13  1.4412  1136.10  49.84  111.37  \n",
       "2010-01-11  17.55  1.4513  1152.60  50.17  112.85  \n",
       "2010-01-12  18.25  1.4494  1127.30  48.35  110.49  \n",
       "2010-01-13  17.85  1.4510  1138.40  48.86  111.54  \n",
       "2010-01-14  17.63  1.4502  1142.85  48.60  112.03  "
      ]
     },
     "execution_count": 6,
     "metadata": {},
     "output_type": "execute_result"
    }
   ],
   "source": [
    "data.head(10)"
   ]
  },
  {
   "cell_type": "code",
   "execution_count": 7,
   "metadata": {},
   "outputs": [],
   "source": [
    "data=pd.DataFrame(data['.SPX'])"
   ]
  },
  {
   "cell_type": "code",
   "execution_count": 8,
   "metadata": {},
   "outputs": [],
   "source": [
    "data.dropna(inplace=True)"
   ]
  },
  {
   "cell_type": "code",
   "execution_count": 11,
   "metadata": {},
   "outputs": [],
   "source": [
    "data['rtes']=np.log(data/data.shift(1))"
   ]
  },
  {
   "cell_type": "code",
   "execution_count": 12,
   "metadata": {},
   "outputs": [],
   "source": [
    "data['vol']=data['rtes'].rolling(252).std()*np.sqrt(252)"
   ]
  },
  {
   "cell_type": "code",
   "execution_count": 14,
   "metadata": {},
   "outputs": [
    {
     "data": {
      "text/plain": [
       "array([<matplotlib.axes._subplots.AxesSubplot object at 0x000001EB9FF26C88>,\n",
       "       <matplotlib.axes._subplots.AxesSubplot object at 0x000001EBA0341F98>],\n",
       "      dtype=object)"
      ]
     },
     "execution_count": 14,
     "metadata": {},
     "output_type": "execute_result"
    },
    {
     "data": {
      "image/png": "[encoded data removed]",
      "text/plain": [
       "<Figure size 720x432 with 2 Axes>"
      ]
     },
     "metadata": {
      "needs_background": "light"
     },
     "output_type": "display_data"
    }
   ],
   "source": [
    "data[['.SPX', 'vol']].plot(subplots=True, figsize=(10, 6))"
   ]
  },
  {
   "cell_type": "code",
   "execution_count": 15,
   "metadata": {},
   "outputs": [],
   "source": [
    "import math"
   ]
  },
  {
   "cell_type": "code",
   "execution_count": 17,
   "metadata": {},
   "outputs": [
    {
     "name": "stdout",
     "output_type": "stream",
     "text": [
      "1.9 s ± 49.1 ms per loop (mean ± std. dev. of 7 runs, 1 loop each)\n"
     ]
    }
   ],
   "source": [
    "loops=2500000\n",
    "a=range(1,loops)\n",
    "def f(x):\n",
    "    return 3*math.log(x)+math.cos(x)**2\n",
    "%timeit r=[f(x) for x in a]"
   ]
  },
  {
   "cell_type": "code",
   "execution_count": null,
   "metadata": {},
   "outputs": [],
   "source": []
  },
  {
   "cell_type": "code",
   "execution_count": 18,
   "metadata": {},
   "outputs": [
    {
     "name": "stdout",
     "output_type": "stream",
     "text": [
      "104 ms ± 2.74 ms per loop (mean ± std. dev. of 7 runs, 10 loops each)\n"
     ]
    }
   ],
   "source": [
    "import numpy as np\n",
    "a=np.arange(1,loops)\n",
    "%timeit r=3*np.log(a)+np.cos(a)**2"
   ]
  },
  {
   "cell_type": "code",
   "execution_count": 19,
   "metadata": {},
   "outputs": [],
   "source": [
    "import numexpr as ne"
   ]
  },
  {
   "cell_type": "code",
   "execution_count": 21,
   "metadata": {},
   "outputs": [
    {
     "name": "stdout",
     "output_type": "stream",
     "text": [
      "49.6 ms ± 1.5 ms per loop (mean ± std. dev. of 7 runs, 10 loops each)\n"
     ]
    }
   ],
   "source": [
    "ne.set_num_threads(1)\n",
    "f='3*log(a)+cos(a)**2'\n",
    "%timeit r=ne.evaluate(f)"
   ]
  },
  {
   "cell_type": "code",
   "execution_count": 23,
   "metadata": {},
   "outputs": [
    {
     "name": "stdout",
     "output_type": "stream",
     "text": [
      "27.3 ms ± 666 µs per loop (mean ± std. dev. of 7 runs, 10 loops each)\n"
     ]
    }
   ],
   "source": [
    "ne.set_num_threads(8)\n",
    "%timeit r=ne.evaluate(f)"
   ]
  },
  {
   "cell_type": "code",
   "execution_count": 1,
   "metadata": {},
   "outputs": [],
   "source": [
    "from tsfresh.examples.robot_execution_failures import download_robot_execution_failures, \\\n",
    "    load_robot_execution_failures\n",
    "download_robot_execution_failures()\n",
    "timeseries, y = load_robot_execution_failures()"
   ]
  },
  {
   "cell_type": "code",
   "execution_count": 2,
   "metadata": {},
   "outputs": [
    {
     "name": "stdout",
     "output_type": "stream",
     "text": [
      "   id  time  F_x  F_y  F_z  T_x  T_y  T_z\n",
      "0   1     0   -1   -1   63   -3   -1    0\n",
      "1   1     1    0    0   62   -3   -1    0\n",
      "2   1     2   -1   -1   61   -3    0    0\n",
      "3   1     3   -1   -1   63   -2   -1    0\n",
      "4   1     4   -1   -1   63   -3   -1    0\n"
     ]
    }
   ],
   "source": [
    "print(timeseries.head())"
   ]
  },
  {
   "cell_type": "code",
   "execution_count": 6,
   "metadata": {},
   "outputs": [
    {
     "data": {
      "text/plain": [
       "array([<matplotlib.axes._subplots.AxesSubplot object at 0x000002BAF091D400>,\n",
       "       <matplotlib.axes._subplots.AxesSubplot object at 0x000002BAF09B00B8>,\n",
       "       <matplotlib.axes._subplots.AxesSubplot object at 0x000002BAF09DC4A8>,\n",
       "       <matplotlib.axes._subplots.AxesSubplot object at 0x000002BAF0A0C908>,\n",
       "       <matplotlib.axes._subplots.AxesSubplot object at 0x000002BAF0B91D68>,\n",
       "       <matplotlib.axes._subplots.AxesSubplot object at 0x000002BAF0BCD208>,\n",
       "       <matplotlib.axes._subplots.AxesSubplot object at 0x000002BAF0BFE668>,\n",
       "       <matplotlib.axes._subplots.AxesSubplot object at 0x000002BAF0C31B00>],\n",
       "      dtype=object)"
      ]
     },
     "execution_count": 6,
     "metadata": {},
     "output_type": "execute_result"
    },
    {
     "data": {
      "image/png": "[encoded data removed]",
      "text/plain": [
       "<Figure size 720x720 with 8 Axes>"
      ]
     },
     "metadata": {
      "needs_background": "light"
     },
     "output_type": "display_data"
    }
   ],
   "source": [
    "import matplotlib.pyplot as plt\n",
    "%matplotlib inline\n",
    "timeseries[timeseries['id'] == 3].plot(subplots=True, sharex=True, figsize=(10,10))\n"
   ]
  },
  {
   "cell_type": "code",
   "execution_count": 7,
   "metadata": {},
   "outputs": [
    {
     "name": "stderr",
     "output_type": "stream",
     "text": [
      "Feature Extraction: 100%|██████████████████████████████████████████████████████████████| 10/10 [00:26<00:00,  2.69s/it]\n"
     ]
    }
   ],
   "source": [
    "from tsfresh import extract_features\n",
    "extracted_features = extract_features(timeseries, column_id=\"id\", column_sort=\"time\")"
   ]
  },
  {
   "cell_type": "code",
   "execution_count": 8,
   "metadata": {},
   "outputs": [
    {
     "name": "stderr",
     "output_type": "stream",
     "text": [
      "WARNING:tsfresh.utilities.dataframe_functions:The columns ['F_x__agg_linear_trend__f_agg_\"max\"__chunk_len_50__attr_\"intercept\"'\n",
      " 'F_x__agg_linear_trend__f_agg_\"max\"__chunk_len_50__attr_\"rvalue\"'\n",
      " 'F_x__agg_linear_trend__f_agg_\"max\"__chunk_len_50__attr_\"slope\"' ...\n",
      " 'T_z__fft_coefficient__coeff_9__attr_\"imag\"'\n",
      " 'T_z__fft_coefficient__coeff_9__attr_\"real\"'\n",
      " 'T_z__spkt_welch_density__coeff_8'] did not have any finite values. Filling with zeros.\n",
      "WARNING:tsfresh.feature_selection.relevance:Infered classification as machine learning task\n"
     ]
    }
   ],
   "source": [
    "from tsfresh import select_features\n",
    "from tsfresh.utilities.dataframe_functions import impute\n",
    "\n",
    "impute(extracted_features)\n",
    "features_filtered = select_features(extracted_features, y)"
   ]
  },
  {
   "cell_type": "code",
   "execution_count": 9,
   "metadata": {},
   "outputs": [
    {
     "name": "stderr",
     "output_type": "stream",
     "text": [
      "Feature Extraction: 100%|██████████████████████████████████████████████████████████████| 10/10 [00:29<00:00,  2.97s/it]\n",
      "WARNING:tsfresh.utilities.dataframe_functions:The columns ['F_x__agg_linear_trend__f_agg_\"max\"__chunk_len_50__attr_\"intercept\"'\n",
      " 'F_x__agg_linear_trend__f_agg_\"max\"__chunk_len_50__attr_\"rvalue\"'\n",
      " 'F_x__agg_linear_trend__f_agg_\"max\"__chunk_len_50__attr_\"slope\"' ...\n",
      " 'T_z__fft_coefficient__coeff_9__attr_\"imag\"'\n",
      " 'T_z__fft_coefficient__coeff_9__attr_\"real\"'\n",
      " 'T_z__spkt_welch_density__coeff_8'] did not have any finite values. Filling with zeros.\n",
      "WARNING:tsfresh.feature_selection.relevance:Infered classification as machine learning task\n"
     ]
    }
   ],
   "source": [
    "from tsfresh import extract_relevant_features\n",
    "\n",
    "features_filtered_direct = extract_relevant_features(timeseries, y,\n",
    "                                                     column_id='id', column_sort='time')"
   ]
  },
  {
   "cell_type": "code",
   "execution_count": 12,
   "metadata": {},
   "outputs": [],
   "source": [
    "features_filtered_direct.dropna(inplace=True)"
   ]
  },
  {
   "cell_type": "code",
   "execution_count": 45,
   "metadata": {},
   "outputs": [
    {
     "data": {
      "text/plain": [
       "0    67\n",
       "1    21\n",
       "dtype: int64"
      ]
     },
     "execution_count": 45,
     "metadata": {},
     "output_type": "execute_result"
    }
   ],
   "source": [
    "y.value_counts()"
   ]
  },
  {
   "cell_type": "code",
   "execution_count": 52,
   "metadata": {},
   "outputs": [],
   "source": [
    "param = {'num_leaves': 31, 'objective': 'binary'}\n",
    "param['metric'] = 'binary_logloss'"
   ]
  },
  {
   "cell_type": "code",
   "execution_count": 34,
   "metadata": {},
   "outputs": [],
   "source": [
    "import numpy as np\n",
    "\n",
    "from sklearn.model_selection import train_test_split\n"
   ]
  },
  {
   "cell_type": "code",
   "execution_count": 53,
   "metadata": {},
   "outputs": [],
   "source": [
    "X_train, X_test, y_train, y_test=train_test_split(features_filtered_direct,y, test_size=0.33, random_state=42)"
   ]
  },
  {
   "cell_type": "code",
   "execution_count": 54,
   "metadata": {},
   "outputs": [],
   "source": [
    "lgb_train=lgb.Dataset(X_train,y_train)\n",
    "lgb_eval=lgb.Dataset(X_test,y_test,reference=lgb_train)"
   ]
  },
  {
   "cell_type": "code",
   "execution_count": 23,
   "metadata": {},
   "outputs": [],
   "source": [
    "import lightgbm as lgb"
   ]
  },
  {
   "cell_type": "code",
   "execution_count": 58,
   "metadata": {},
   "outputs": [
    {
     "name": "stdout",
     "output_type": "stream",
     "text": [
      "[1]\tvalid_0's binary_logloss: 0.577892\n",
      "Training until validation scores don't improve for 5 rounds.\n",
      "[2]\tvalid_0's binary_logloss: 0.519869\n",
      "[3]\tvalid_0's binary_logloss: 0.471629\n",
      "[4]\tvalid_0's binary_logloss: 0.437531\n",
      "[5]\tvalid_0's binary_logloss: 0.406758\n",
      "[6]\tvalid_0's binary_logloss: 0.387573\n",
      "[7]\tvalid_0's binary_logloss: 0.367239\n",
      "[8]\tvalid_0's binary_logloss: 0.342343\n",
      "[9]\tvalid_0's binary_logloss: 0.323002\n",
      "[10]\tvalid_0's binary_logloss: 0.303233\n",
      "[11]\tvalid_0's binary_logloss: 0.286842\n",
      "[12]\tvalid_0's binary_logloss: 0.268257\n",
      "[13]\tvalid_0's binary_logloss: 0.255278\n",
      "[14]\tvalid_0's binary_logloss: 0.243832\n",
      "[15]\tvalid_0's binary_logloss: 0.228896\n",
      "[16]\tvalid_0's binary_logloss: 0.219226\n",
      "[17]\tvalid_0's binary_logloss: 0.210714\n",
      "[18]\tvalid_0's binary_logloss: 0.202578\n",
      "[19]\tvalid_0's binary_logloss: 0.194473\n",
      "[20]\tvalid_0's binary_logloss: 0.186932\n",
      "[21]\tvalid_0's binary_logloss: 0.178689\n",
      "[22]\tvalid_0's binary_logloss: 0.172548\n",
      "[23]\tvalid_0's binary_logloss: 0.162935\n",
      "[24]\tvalid_0's binary_logloss: 0.157742\n",
      "[25]\tvalid_0's binary_logloss: 0.152777\n",
      "[26]\tvalid_0's binary_logloss: 0.14774\n",
      "[27]\tvalid_0's binary_logloss: 0.142332\n",
      "[28]\tvalid_0's binary_logloss: 0.134871\n",
      "[29]\tvalid_0's binary_logloss: 0.132147\n",
      "[30]\tvalid_0's binary_logloss: 0.129254\n",
      "[31]\tvalid_0's binary_logloss: 0.123436\n",
      "[32]\tvalid_0's binary_logloss: 0.119261\n",
      "[33]\tvalid_0's binary_logloss: 0.112792\n",
      "[34]\tvalid_0's binary_logloss: 0.110532\n",
      "[35]\tvalid_0's binary_logloss: 0.10818\n",
      "[36]\tvalid_0's binary_logloss: 0.104285\n",
      "[37]\tvalid_0's binary_logloss: 0.101343\n",
      "[38]\tvalid_0's binary_logloss: 0.0981294\n",
      "[39]\tvalid_0's binary_logloss: 0.0968893\n",
      "[40]\tvalid_0's binary_logloss: 0.0915489\n",
      "[41]\tvalid_0's binary_logloss: 0.0913633\n",
      "[42]\tvalid_0's binary_logloss: 0.0864131\n",
      "[43]\tvalid_0's binary_logloss: 0.0852081\n",
      "[44]\tvalid_0's binary_logloss: 0.0820945\n",
      "[45]\tvalid_0's binary_logloss: 0.0817362\n",
      "[46]\tvalid_0's binary_logloss: 0.0801082\n",
      "[47]\tvalid_0's binary_logloss: 0.0786508\n",
      "[48]\tvalid_0's binary_logloss: 0.0743617\n",
      "[49]\tvalid_0's binary_logloss: 0.0718865\n",
      "[50]\tvalid_0's binary_logloss: 0.0715073\n",
      "[51]\tvalid_0's binary_logloss: 0.0708426\n",
      "[52]\tvalid_0's binary_logloss: 0.0670626\n",
      "[53]\tvalid_0's binary_logloss: 0.0633418\n",
      "[54]\tvalid_0's binary_logloss: 0.0615475\n",
      "[55]\tvalid_0's binary_logloss: 0.0617701\n",
      "[56]\tvalid_0's binary_logloss: 0.0583982\n",
      "[57]\tvalid_0's binary_logloss: 0.0582764\n",
      "[58]\tvalid_0's binary_logloss: 0.0576165\n",
      "[59]\tvalid_0's binary_logloss: 0.0555884\n",
      "[60]\tvalid_0's binary_logloss: 0.0557786\n",
      "[61]\tvalid_0's binary_logloss: 0.0526397\n",
      "[62]\tvalid_0's binary_logloss: 0.0514756\n",
      "[63]\tvalid_0's binary_logloss: 0.0498063\n",
      "[64]\tvalid_0's binary_logloss: 0.0505913\n",
      "[65]\tvalid_0's binary_logloss: 0.0500419\n",
      "[66]\tvalid_0's binary_logloss: 0.0511553\n",
      "[67]\tvalid_0's binary_logloss: 0.0513521\n",
      "[68]\tvalid_0's binary_logloss: 0.0519929\n",
      "Early stopping, best iteration is:\n",
      "[63]\tvalid_0's binary_logloss: 0.0498063\n"
     ]
    }
   ],
   "source": [
    "gbm=lgb.train(param,train_set=lgb_train,num_boost_round=600,\n",
    "             valid_sets=lgb_eval,early_stopping_rounds=5)"
   ]
  },
  {
   "cell_type": "code",
   "execution_count": 59,
   "metadata": {},
   "outputs": [],
   "source": [
    "ygbm=gbm.predict(features_filtered_direct)"
   ]
  },
  {
   "cell_type": "code",
   "execution_count": 61,
   "metadata": {},
   "outputs": [],
   "source": [
    "ygbm=np.array(ygbm)"
   ]
  },
  {
   "cell_type": "code",
   "execution_count": 64,
   "metadata": {},
   "outputs": [],
   "source": [
    "results=np.where(ygbm>=0.5,1,0)"
   ]
  },
  {
   "cell_type": "code",
   "execution_count": 65,
   "metadata": {},
   "outputs": [],
   "source": [
    "from sklearn.metrics import accuracy_score"
   ]
  },
  {
   "cell_type": "code",
   "execution_count": 66,
   "metadata": {},
   "outputs": [],
   "source": [
    "accuracy=accuracy_score(results,y)"
   ]
  },
  {
   "cell_type": "code",
   "execution_count": 68,
   "metadata": {},
   "outputs": [
    {
     "data": {
      "text/plain": [
       "1.0"
      ]
     },
     "execution_count": 68,
     "metadata": {},
     "output_type": "execute_result"
    }
   ],
   "source": [
    "accuracy"
   ]
  },
  {
   "cell_type": "code",
   "execution_count": 69,
   "metadata": {},
   "outputs": [
    {
     "data": {
      "text/plain": [
       "array([[67,  0],\n",
       "       [ 0, 21]], dtype=int64)"
      ]
     },
     "execution_count": 69,
     "metadata": {},
     "output_type": "execute_result"
    }
   ],
   "source": [
    "from sklearn.metrics import confusion_matrix\n",
    "cm = confusion_matrix(y, results)\n",
    "cm"
   ]
  },
  {
   "cell_type": "code",
   "execution_count": 2,
   "metadata": {},
   "outputs": [
    {
     "ename": "NameError",
     "evalue": "name 'null' is not defined",
     "output_type": "error",
     "traceback": [
      "\u001b[1;31m---------------------------------------------------------------------------\u001b[0m",
      "\u001b[1;31mNameError\u001b[0m                                 Traceback (most recent call last)",
      "\u001b[1;32m<ipython-input-2-7595747ddc12>\u001b[0m in \u001b[0;36m<module>\u001b[1;34m\u001b[0m\n\u001b[1;32m----> 1\u001b[1;33m \u001b[1;32mfrom\u001b[0m \u001b[0msn_random_numbers\u001b[0m \u001b[1;32mimport\u001b[0m \u001b[1;33m*\u001b[0m\u001b[1;33m\u001b[0m\u001b[1;33m\u001b[0m\u001b[0m\n\u001b[0m",
      "\u001b[1;32m~\\Practice\\quantbasic\\sn_random_numbers.py\u001b[0m in \u001b[0;36m<module>\u001b[1;34m\u001b[0m\n\u001b[0;32m     35\u001b[0m   {\n\u001b[0;32m     36\u001b[0m    \u001b[1;34m\"cell_type\"\u001b[0m\u001b[1;33m:\u001b[0m \u001b[1;34m\"code\"\u001b[0m\u001b[1;33m,\u001b[0m\u001b[1;33m\u001b[0m\u001b[1;33m\u001b[0m\u001b[0m\n\u001b[1;32m---> 37\u001b[1;33m    \u001b[1;34m\"execution_count\"\u001b[0m\u001b[1;33m:\u001b[0m \u001b[0mnull\u001b[0m\u001b[1;33m,\u001b[0m\u001b[1;33m\u001b[0m\u001b[1;33m\u001b[0m\u001b[0m\n\u001b[0m\u001b[0;32m     38\u001b[0m    \u001b[1;34m\"metadata\"\u001b[0m\u001b[1;33m:\u001b[0m \u001b[1;33m{\u001b[0m\u001b[1;33m}\u001b[0m\u001b[1;33m,\u001b[0m\u001b[1;33m\u001b[0m\u001b[1;33m\u001b[0m\u001b[0m\n\u001b[0;32m     39\u001b[0m    \u001b[1;34m\"outputs\"\u001b[0m\u001b[1;33m:\u001b[0m \u001b[1;33m[\u001b[0m\u001b[1;33m]\u001b[0m\u001b[1;33m,\u001b[0m\u001b[1;33m\u001b[0m\u001b[1;33m\u001b[0m\u001b[0m\n",
      "\u001b[1;31mNameError\u001b[0m: name 'null' is not defined"
     ]
    }
   ],
   "source": [
    "from sn_random_numbers import *"
   ]
  },
  {
   "cell_type": "code",
   "execution_count": null,
   "metadata": {},
   "outputs": [],
   "source": [
    "import sn"
   ]
  }
 ],
 "metadata": {
  "kernelspec": {
   "display_name": "Python 3",
   "language": "python",
   "name": "python3"
  },
  "language_info": {
   "codemirror_mode": {
    "name": "ipython",
    "version": 3
   },
   "file_extension": ".py",
   "mimetype": "text/x-python",
   "name": "python",
   "nbconvert_exporter": "python",
   "pygments_lexer": "ipython3",
   "version": "3.7.3"
  }
 },
 "nbformat": 4,
 "nbformat_minor": 2
}
