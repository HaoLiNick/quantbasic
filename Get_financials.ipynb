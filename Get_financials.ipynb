{
 "cells": [
  {
   "cell_type": "code",
   "execution_count": 4,
   "metadata": {},
   "outputs": [],
   "source": [
    "import requests\n",
    "import pandas as pd"
   ]
  },
  {
   "cell_type": "code",
   "execution_count": 7,
   "metadata": {},
   "outputs": [],
   "source": [
    "def get_financials():\n",
    "    pro='https://finance.yahoo.com/quote/AMRC/'\n",
    "    post='?p=AMRC'\n",
    "    string=['financials','balance-sheet','cash-flow']\n",
    "    urls=[pro+i+post for i in string]\n",
    "    tb=[]\n",
    "    for i in range(3):\n",
    "        tb.append(pd.read_html(requests.get(urls[i]).text))\n",
    "    return tb\n",
    "        "
   ]
  },
  {
   "cell_type": "code",
   "execution_count": 9,
   "metadata": {},
   "outputs": [],
   "source": [
    "data=get_financials()"
   ]
  },
  {
   "cell_type": "code",
   "execution_count": 20,
   "metadata": {},
   "outputs": [
    {
     "data": {
      "text/plain": [
       "[                                       0                     1  \\\n",
       " 0                          Period Ending            12/31/2018   \n",
       " 1                         Current Assets        Current Assets   \n",
       " 2              Cash And Cash Equivalents                 61397   \n",
       " 3                 Short Term Investments                     -   \n",
       " 4                        Net Receivables                191639   \n",
       " 5                              Inventory                  7765   \n",
       " 6                   Other Current Assets                 38597   \n",
       " 7                   Total Current Assets                310969   \n",
       " 8                  Long Term Investments                   733   \n",
       " 9          Property, plant and equipment                466937   \n",
       " 10                              Goodwill                 58332   \n",
       " 11                     Intangible Assets                  2004   \n",
       " 12              Accumulated Amortization                     -   \n",
       " 13                          Other Assets                322659   \n",
       " 14      Deferred Long Term Asset Charges                     -   \n",
       " 15                          Total Assets               1161634   \n",
       " 16                   Current Liabilities   Current Liabilities   \n",
       " 17                      Accounts Payable                134330   \n",
       " 18          Short/Current Long Term Debt                 21934   \n",
       " 19             Other Current Liabilities                 25808   \n",
       " 20             Total Current Liabilities                222630   \n",
       " 21                        Long Term Debt                483797   \n",
       " 22                     Other Liabilities                 35206   \n",
       " 23  Deferred Long Term Liability Charges                   639   \n",
       " 24                     Minority Interest                 14719   \n",
       " 25                     Negative Goodwill                     -   \n",
       " 26                     Total Liabilities                770040   \n",
       " 27                  Stockholders' Equity  Stockholders' Equity   \n",
       " 28         Misc. Stocks Options Warrants                     -   \n",
       " 29            Redeemable Preferred Stock                     -   \n",
       " 30                       Preferred Stock                     -   \n",
       " 31                          Common Stock                     5   \n",
       " 32                     Retained Earnings                269806   \n",
       " 33                        Treasury Stock                -17587   \n",
       " 34                       Capital Surplus                124651   \n",
       " 35              Other Stockholder Equity                 -5949   \n",
       " 36            Total stockholders' equity                376875   \n",
       " 37                   Net Tangible Assets                316539   \n",
       " \n",
       "                        2                     3                     4  \n",
       " 0             12/31/2017            12/31/2016            12/31/2015  \n",
       " 1         Current Assets        Current Assets        Current Assets  \n",
       " 2                  24262                 20607                 21645  \n",
       " 3                      -                     -                     -  \n",
       " 4                 213510                160139                185311  \n",
       " 5                   8139                 12104                 13223  \n",
       " 6                  27130                 21479                 31774  \n",
       " 7                 287078                226061                263698  \n",
       " 8                    233                     -                     -  \n",
       " 9                 361746                324776                249637  \n",
       " 10                 56135                 57976                 59085  \n",
       " 11                  2440                  3931                  6770  \n",
       " 12                     -                     -                     -  \n",
       " 13                276319                184537                144250  \n",
       " 14                     -                     -                     -  \n",
       " 15                983951                797281                723440  \n",
       " 16   Current Liabilities   Current Liabilities   Current Liabilities  \n",
       " 17                135881                126583                114759  \n",
       " 18                 18218                 17107                 13427  \n",
       " 19                 20964                 22053                 29554  \n",
       " 20                202142                190602                179723  \n",
       " 21                381142                264977                227211  \n",
       " 22                 22997                 28087                 28607  \n",
       " 23                  2355                  1524                     -  \n",
       " 24                 10338                  6847                   490  \n",
       " 25                     -                     -                     -  \n",
       " 26                636993                496128                435541  \n",
       " 27  Stockholders' Equity  Stockholders' Equity  Stockholders' Equity  \n",
       " 28                     -                     -                     -  \n",
       " 29                     -                     -                     -  \n",
       " 30                     -                     -                     -  \n",
       " 31                     5                     5                     5  \n",
       " 32                235844                194353                182321  \n",
       " 33                -15425                -12978                 -5228  \n",
       " 34                116196                112926                110311  \n",
       " 35                 -5626                 -6591                 -5228  \n",
       " 36                336620                294306                287409  \n",
       " 37                278045                232399                221554  ]"
      ]
     },
     "execution_count": 20,
     "metadata": {},
     "output_type": "execute_result"
    }
   ],
   "source": [
    "pd.read_html(\"https://finance.yahoo.com/quote/AMRC/balance-sheet?p=AMRC\")"
   ]
  },
  {
   "cell_type": "code",
   "execution_count": 21,
   "metadata": {},
   "outputs": [
    {
     "data": {
      "text/plain": [
       "409145673.6"
      ]
     },
     "execution_count": 21,
     "metadata": {},
     "output_type": "execute_result"
    }
   ],
   "source": [
    "14.4*28412894"
   ]
  },
  {
   "cell_type": "code",
   "execution_count": null,
   "metadata": {},
   "outputs": [],
   "source": []
  }
 ],
 "metadata": {
  "kernelspec": {
   "display_name": "Python 3",
   "language": "python",
   "name": "python3"
  },
  "language_info": {
   "codemirror_mode": {
    "name": "ipython",
    "version": 3
   },
   "file_extension": ".py",
   "mimetype": "text/x-python",
   "name": "python",
   "nbconvert_exporter": "python",
   "pygments_lexer": "ipython3",
   "version": "3.7.3"
  }
 },
 "nbformat": 4,
 "nbformat_minor": 2
}
