{
 "cells": [
  {
   "cell_type": "code",
   "execution_count": 5,
   "metadata": {},
   "outputs": [],
   "source": [
    "import numpy as np"
   ]
  },
  {
   "cell_type": "code",
   "execution_count": 4,
   "metadata": {},
   "outputs": [],
   "source": [
    "def sn_random_numbers(shape,antithetic=True,moment_matching=True,fixed_seed=False):\n",
    "    if fixed_seed:\n",
    "        np.random.seed(1000)\n",
    "    if antithetic:\n",
    "        ran=np.random.standard_normal((shape[0],shape[1],shape[2]//2))\n",
    "        ran=np.concatenate((ran,-ran),axis=2)\n",
    "    else:\n",
    "        ran=np.random.standard_normal(shape)\n",
    "    if moment_matching:\n",
    "        ran=ran-np.mean(ran)\n",
    "        ran=ran/np.std(ran)\n",
    "    if shape[0]==1:\n",
    "        return ran[0]\n",
    "    else:\n",
    "        return ran"
   ]
  },
  {
   "cell_type": "code",
   "execution_count": null,
   "metadata": {},
   "outputs": [],
   "source": []
  }
 ],
 "metadata": {
  "kernelspec": {
   "display_name": "Python 3",
   "language": "python",
   "name": "python3"
  },
  "language_info": {
   "codemirror_mode": {
    "name": "ipython",
    "version": 3
   },
   "file_extension": ".py",
   "mimetype": "text/x-python",
   "name": "python",
   "nbconvert_exporter": "python",
   "pygments_lexer": "ipython3",
   "version": "3.7.3"
  }
 },
 "nbformat": 4,
 "nbformat_minor": 2
}
