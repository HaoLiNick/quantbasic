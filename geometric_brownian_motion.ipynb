{
 "cells": [
  {
   "cell_type": "code",
   "execution_count": 2,
   "metadata": {},
   "outputs": [],
   "source": [
    "import numpy as np"
   ]
  },
  {
   "cell_type": "code",
   "execution_count": 3,
   "metadata": {},
   "outputs": [],
   "source": [
    "from sn_random_numbers import sn_random_numbers"
   ]
  },
  {
   "cell_type": "code",
   "execution_count": 5,
   "metadata": {},
   "outputs": [],
   "source": [
    "from simulation_class import simulation_class"
   ]
  },
  {
   "cell_type": "code",
   "execution_count": 22,
   "metadata": {},
   "outputs": [],
   "source": [
    "class geometric_brownian_motion(simulation_class):\n",
    "    \n",
    "    def __init__(self,name,mar_env,corr=False):\n",
    "        super(geometric_brownian_motion,self).__init__(name,mar_env,corr)\n",
    "    \n",
    "    def update(self,initial_value=None,volatility=None,final_date=None):\n",
    "        if initial_value is not None:\n",
    "            self.initial_value=initial_value\n",
    "        if volatility is not None:\n",
    "            self.volatility=volatility\n",
    "        if final_date is not None:\n",
    "            self.final_date=final_date\n",
    "        self.instrument_values=None\n",
    "    \n",
    "    def generate_path(self,fixed_seed=False,day_count=365):\n",
    "        if self.time_grid is None:\n",
    "            self.generate_time_grid()\n",
    "        M=len(self.time_grid)\n",
    "        I=self.paths\n",
    "        paths=np.zeros((M,I))\n",
    "        paths[0]=self.initial_value\n",
    "        if not self.correlated:\n",
    "            rand=sn_random_numbers((1,M,I),fixed_seed=fixed_seed)\n",
    "        else:\n",
    "            rand=self.random_numbers\n",
    "        short_rate=self.discount_curve.short_rate\n",
    "        \n",
    "        for t in range(1,len(self.time_grid)):\n",
    "            if not self.correlated:\n",
    "                ran=rand[t]\n",
    "            else:\n",
    "                ran=np.dot(self.cholesky_matrix,rand[:,t,:])\n",
    "                ran=ran[self.rn_set]\n",
    "            dt=(self.time_grid[t]-self.time_grid[t-1]).days/day_count\n",
    "            \n",
    "            paths[t]=paths[t-1]*np.exp((short_rate-0.5*self.volatility**2)*dt+\n",
    "                                      self.volatility*np.sqrt(dt)*ran)\n",
    "        self.instrument_values=paths"
   ]
  },
  {
   "cell_type": "code",
   "execution_count": null,
   "metadata": {},
   "outputs": [],
   "source": []
  },
  {
   "cell_type": "code",
   "execution_count": null,
   "metadata": {},
   "outputs": [],
   "source": []
  },
  {
   "cell_type": "code",
   "execution_count": null,
   "metadata": {},
   "outputs": [],
   "source": []
  },
  {
   "cell_type": "code",
   "execution_count": null,
   "metadata": {},
   "outputs": [],
   "source": []
  }
 ],
 "metadata": {
  "kernelspec": {
   "display_name": "Python 3",
   "language": "python",
   "name": "python3"
  },
  "language_info": {
   "codemirror_mode": {
    "name": "ipython",
    "version": 3
   },
   "file_extension": ".py",
   "mimetype": "text/x-python",
   "name": "python",
   "nbconvert_exporter": "python",
   "pygments_lexer": "ipython3",
   "version": "3.7.3"
  }
 },
 "nbformat": 4,
 "nbformat_minor": 2
}
