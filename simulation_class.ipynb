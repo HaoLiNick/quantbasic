{
 "cells": [
  {
   "cell_type": "code",
   "execution_count": 3,
   "metadata": {},
   "outputs": [],
   "source": [
    "import numpy as np\n",
    "import pandas as pd"
   ]
  },
  {
   "cell_type": "code",
   "execution_count": 4,
   "metadata": {},
   "outputs": [],
   "source": [
    "class simulation_class():\n",
    "    \n",
    "    def __init__(self,name,mar_env,corr):\n",
    "        self.name=name\n",
    "        self.pricing_data=mar_env.pricing_data\n",
    "        self.initial_value=mar_env.get_constant('initial_value')\n",
    "        self.volatility=mar_env.get_constant('volatility')\n",
    "        self.final_date=mar_env.get_constant('final_date')\n",
    "        self.currency=mar_env.get_constant('currency')\n",
    "        self.frequency=mar_env.get_constant('frequency')\n",
    "        self.paths=mar_env.get_constant('paths')\n",
    "        self.discount_curve=mar_env.get_curve('discount_curve')\n",
    "        try:\n",
    "            self.time_grid=mar_env.get_list('time_grid')\n",
    "        except:\n",
    "            self.time_grid=None\n",
    "        try:\n",
    "            self.special_dates=mar_env.get_list('special_dates')\n",
    "        except:\n",
    "            self.special_dates=[]\n",
    "        self.instrument_values=None\n",
    "        self.correlated=corr\n",
    "        if corr is True:\n",
    "            self.cholesky_matrix=mar_env.get_list('cholesky_matrix')\n",
    "            self.rn_set=mar_env.get_list('rn_set')[self.name]\n",
    "            self.random_numbers=mar_env.get_list('random_numbers')\n",
    "        \n",
    "    def generate_time_grid(self):\n",
    "        start=self.pricing_data\n",
    "        end=self.final_date\n",
    "        time_grid=pd.date_range(start,end,freq=self.frequency).to_pydatetime()\n",
    "        time_grid=list(time_grid)\n",
    "        if start not in time_grid:\n",
    "            time_grid.insert(0,start)\n",
    "        if end not in time_grid:\n",
    "            time_grid.append(end)\n",
    "        if len(self.special_dates)>0:\n",
    "            time_grid.extend(self.special_dates)\n",
    "            time_grid=list(set(time_grid))\n",
    "            time_grid.sort()\n",
    "        self.time_grid=np.array(time_grid)\n",
    "        \n",
    "    def get_instrument_values(self,fixed_seed=True):\n",
    "        if self.instrument_values is None:\n",
    "            self.generate_paths(fixed_seed=fixed_seed,day_count=365)\n",
    "        elif fixed_seed is False:\n",
    "            self.generate_paths(fixed_seed=fixed_seed,day_count=365)\n",
    "        return self.instrument_values\n",
    "        "
   ]
  },
  {
   "cell_type": "code",
   "execution_count": null,
   "metadata": {},
   "outputs": [],
   "source": [
    "\n"
   ]
  }
 ],
 "metadata": {
  "kernelspec": {
   "display_name": "Python 3",
   "language": "python",
   "name": "python3"
  },
  "language_info": {
   "codemirror_mode": {
    "name": "ipython",
    "version": 3
   },
   "file_extension": ".py",
   "mimetype": "text/x-python",
   "name": "python",
   "nbconvert_exporter": "python",
   "pygments_lexer": "ipython3",
   "version": "3.7.3"
  }
 },
 "nbformat": 4,
 "nbformat_minor": 2
}
