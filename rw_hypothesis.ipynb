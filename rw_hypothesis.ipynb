{
 "cells": [
  {
   "cell_type": "code",
   "execution_count": 1,
   "metadata": {},
   "outputs": [],
   "source": [
    "import lightgbm as lgb"
   ]
  },
  {
   "cell_type": "code",
   "execution_count": 2,
   "metadata": {},
   "outputs": [],
   "source": [
    "import numpy as np"
   ]
  },
  {
   "cell_type": "code",
   "execution_count": 3,
   "metadata": {},
   "outputs": [],
   "source": [
    "import pandas as pd"
   ]
  },
  {
   "cell_type": "code",
   "execution_count": 4,
   "metadata": {},
   "outputs": [],
   "source": [
    "data=np.random.rand(500,10)"
   ]
  },
  {
   "cell_type": "code",
   "execution_count": 5,
   "metadata": {},
   "outputs": [],
   "source": [
    "label=np.random.randint(2,size=500)\n",
    "train_data=lgb.Dataset(data,label=label)"
   ]
  },
  {
   "cell_type": "code",
   "execution_count": 1,
   "metadata": {},
   "outputs": [],
   "source": [
    "import numpy as np\n",
    "import pandas as pd\n",
    "import datetime as dt\n",
    "from pylab import mpl,plt"
   ]
  },
  {
   "cell_type": "code",
   "execution_count": 2,
   "metadata": {},
   "outputs": [],
   "source": [
    "plt.style.use('seaborn')\n",
    "mpl.rcParams['font.family']='serif'\n",
    "%matplotlib inline"
   ]
  },
  {
   "cell_type": "code",
   "execution_count": 3,
   "metadata": {},
   "outputs": [],
   "source": [
    "raw=pd.read_csv(\"tr_eikon_eod_data.csv\",index_col=0,parse_dates=True)"
   ]
  },
  {
   "cell_type": "code",
   "execution_count": 9,
   "metadata": {},
   "outputs": [],
   "source": [
    "symbol='EUR='"
   ]
  },
  {
   "cell_type": "code",
   "execution_count": 10,
   "metadata": {},
   "outputs": [],
   "source": [
    "data=pd.DataFrame(raw[symbol])"
   ]
  },
  {
   "cell_type": "code",
   "execution_count": 11,
   "metadata": {},
   "outputs": [],
   "source": [
    "data['returns']=np.log(data/data.shift(1))\n"
   ]
  },
  {
   "cell_type": "code",
   "execution_count": 12,
   "metadata": {},
   "outputs": [],
   "source": [
    "data.dropna(inplace=True)"
   ]
  },
  {
   "cell_type": "code",
   "execution_count": 13,
   "metadata": {},
   "outputs": [],
   "source": [
    "data['direction']=np.sign(data['returns'])"
   ]
  },
  {
   "cell_type": "code",
   "execution_count": 15,
   "metadata": {},
   "outputs": [],
   "source": [
    "def create_lag(data):\n",
    "    global cols_\n",
    "    cols_=[]\n",
    "    for lag in range(1,lags+1):\n",
    "        col='lag_{}'.format(lag)\n",
    "        data[col]=data['returns'].shift(lag)\n",
    "        cols_.append(col)"
   ]
  },
  {
   "cell_type": "code",
   "execution_count": 16,
   "metadata": {},
   "outputs": [],
   "source": [
    "lags=5\n",
    "create_lag(data)\n",
    "data.dropna(inplace=True)"
   ]
  },
  {
   "cell_type": "code",
   "execution_count": 18,
   "metadata": {},
   "outputs": [],
   "source": [
    "def create_bins(data,bins=[0]):\n",
    "    global cols_bin\n",
    "    cols_bin=[]\n",
    "    for col in cols_:\n",
    "        col_bin=col+'_bin'\n",
    "        data[col_bin]=np.digitize(data[col],bins=bins)\n",
    "        cols_bin.append(col_bin)"
   ]
  },
  {
   "cell_type": "code",
   "execution_count": 19,
   "metadata": {},
   "outputs": [],
   "source": [
    "create_bins(data)"
   ]
  },
  {
   "cell_type": "code",
   "execution_count": 22,
   "metadata": {},
   "outputs": [],
   "source": [
    "data.dropna(inplace=True)"
   ]
  },
  {
   "cell_type": "code",
   "execution_count": 23,
   "metadata": {},
   "outputs": [],
   "source": [
    "from sklearn import linear_model\n",
    "from sklearn.naive_bayes import GaussianNB\n",
    "from sklearn.svm import SVC"
   ]
  },
  {
   "cell_type": "code",
   "execution_count": 24,
   "metadata": {},
   "outputs": [],
   "source": [
    "C=1"
   ]
  },
  {
   "cell_type": "code",
   "execution_count": 25,
   "metadata": {},
   "outputs": [],
   "source": [
    "models={'log_reg':linear_model.LogisticRegression(C=C),\n",
    "       'gauss_nb':GaussianNB(),\n",
    "       'svm':SVC(C=C)}"
   ]
  },
  {
   "cell_type": "code",
   "execution_count": 26,
   "metadata": {},
   "outputs": [],
   "source": [
    "def fit_models(data):\n",
    "    mfit={model:models[model].fit(data[cols_bin],data['direction']) for model in models.keys()}"
   ]
  },
  {
   "cell_type": "code",
   "execution_count": 27,
   "metadata": {},
   "outputs": [
    {
     "name": "stderr",
     "output_type": "stream",
     "text": [
      "C:\\An\\lib\\site-packages\\sklearn\\linear_model\\logistic.py:432: FutureWarning: Default solver will be changed to 'lbfgs' in 0.22. Specify a solver to silence this warning.\n",
      "  FutureWarning)\n",
      "C:\\An\\lib\\site-packages\\sklearn\\linear_model\\logistic.py:469: FutureWarning: Default multi_class will be changed to 'auto' in 0.22. Specify the multi_class option to silence this warning.\n",
      "  \"this warning.\", FutureWarning)\n",
      "C:\\An\\lib\\site-packages\\sklearn\\svm\\base.py:193: FutureWarning: The default value of gamma will change from 'auto' to 'scale' in version 0.22 to account better for unscaled features. Set gamma explicitly to 'auto' or 'scale' to avoid this warning.\n",
      "  \"avoid this warning.\", FutureWarning)\n"
     ]
    }
   ],
   "source": [
    "fit_models(data)"
   ]
  },
  {
   "cell_type": "code",
   "execution_count": 28,
   "metadata": {},
   "outputs": [],
   "source": [
    "def dposition(data):\n",
    "    for model in models.keys():\n",
    "        data['pos_'+model]=models[model].predict(data[cols_bin])"
   ]
  },
  {
   "cell_type": "code",
   "execution_count": 29,
   "metadata": {},
   "outputs": [],
   "source": [
    "dposition(data)"
   ]
  },
  {
   "cell_type": "code",
   "execution_count": 30,
   "metadata": {},
   "outputs": [],
   "source": [
    "def evaluate(data):\n",
    "    global sel\n",
    "    sel=[]\n",
    "    for model in models.keys():\n",
    "        col='strat_'+model\n",
    "        data[col]=data['pos_'+model]*data['returns']\n",
    "        sel.append(col)\n",
    "    sel.insert(0,'returns')"
   ]
  },
  {
   "cell_type": "code",
   "execution_count": 31,
   "metadata": {},
   "outputs": [],
   "source": [
    "evaluate(data)"
   ]
  },
  {
   "cell_type": "code",
   "execution_count": 32,
   "metadata": {},
   "outputs": [
    {
     "data": {
      "text/html": [
       "<div>\n",
       "<style scoped>\n",
       "    .dataframe tbody tr th:only-of-type {\n",
       "        vertical-align: middle;\n",
       "    }\n",
       "\n",
       "    .dataframe tbody tr th {\n",
       "        vertical-align: top;\n",
       "    }\n",
       "\n",
       "    .dataframe thead th {\n",
       "        text-align: right;\n",
       "    }\n",
       "</style>\n",
       "<table border=\"1\" class=\"dataframe\">\n",
       "  <thead>\n",
       "    <tr style=\"text-align: right;\">\n",
       "      <th></th>\n",
       "      <th>EUR=</th>\n",
       "      <th>returns</th>\n",
       "      <th>direction</th>\n",
       "      <th>lag_1</th>\n",
       "      <th>lag_2</th>\n",
       "      <th>lag_3</th>\n",
       "      <th>lag_4</th>\n",
       "      <th>lag_5</th>\n",
       "      <th>lag_1_bin</th>\n",
       "      <th>lag_2_bin</th>\n",
       "      <th>lag_3_bin</th>\n",
       "      <th>lag_4_bin</th>\n",
       "      <th>lag_5_bin</th>\n",
       "      <th>pos_log_reg</th>\n",
       "      <th>pos_gauss_nb</th>\n",
       "      <th>pos_svm</th>\n",
       "      <th>strat_log_reg</th>\n",
       "      <th>strat_gauss_nb</th>\n",
       "      <th>strat_svm</th>\n",
       "    </tr>\n",
       "    <tr>\n",
       "      <th>Date</th>\n",
       "      <th></th>\n",
       "      <th></th>\n",
       "      <th></th>\n",
       "      <th></th>\n",
       "      <th></th>\n",
       "      <th></th>\n",
       "      <th></th>\n",
       "      <th></th>\n",
       "      <th></th>\n",
       "      <th></th>\n",
       "      <th></th>\n",
       "      <th></th>\n",
       "      <th></th>\n",
       "      <th></th>\n",
       "      <th></th>\n",
       "      <th></th>\n",
       "      <th></th>\n",
       "      <th></th>\n",
       "      <th></th>\n",
       "    </tr>\n",
       "  </thead>\n",
       "  <tbody>\n",
       "    <tr>\n",
       "      <th>2010-01-11</th>\n",
       "      <td>1.4513</td>\n",
       "      <td>0.006984</td>\n",
       "      <td>1.0</td>\n",
       "      <td>0.006544</td>\n",
       "      <td>-0.006544</td>\n",
       "      <td>0.003058</td>\n",
       "      <td>-0.002988</td>\n",
       "      <td>0.006125</td>\n",
       "      <td>1</td>\n",
       "      <td>0</td>\n",
       "      <td>1</td>\n",
       "      <td>0</td>\n",
       "      <td>1</td>\n",
       "      <td>-1.0</td>\n",
       "      <td>-1.0</td>\n",
       "      <td>1.0</td>\n",
       "      <td>-0.006984</td>\n",
       "      <td>-0.006984</td>\n",
       "      <td>0.006984</td>\n",
       "    </tr>\n",
       "    <tr>\n",
       "      <th>2010-01-12</th>\n",
       "      <td>1.4494</td>\n",
       "      <td>-0.001310</td>\n",
       "      <td>-1.0</td>\n",
       "      <td>0.006984</td>\n",
       "      <td>0.006544</td>\n",
       "      <td>-0.006544</td>\n",
       "      <td>0.003058</td>\n",
       "      <td>-0.002988</td>\n",
       "      <td>1</td>\n",
       "      <td>1</td>\n",
       "      <td>0</td>\n",
       "      <td>1</td>\n",
       "      <td>0</td>\n",
       "      <td>-1.0</td>\n",
       "      <td>-1.0</td>\n",
       "      <td>-1.0</td>\n",
       "      <td>0.001310</td>\n",
       "      <td>0.001310</td>\n",
       "      <td>0.001310</td>\n",
       "    </tr>\n",
       "    <tr>\n",
       "      <th>2010-01-13</th>\n",
       "      <td>1.4510</td>\n",
       "      <td>0.001103</td>\n",
       "      <td>1.0</td>\n",
       "      <td>-0.001310</td>\n",
       "      <td>0.006984</td>\n",
       "      <td>0.006544</td>\n",
       "      <td>-0.006544</td>\n",
       "      <td>0.003058</td>\n",
       "      <td>0</td>\n",
       "      <td>1</td>\n",
       "      <td>1</td>\n",
       "      <td>0</td>\n",
       "      <td>1</td>\n",
       "      <td>1.0</td>\n",
       "      <td>1.0</td>\n",
       "      <td>1.0</td>\n",
       "      <td>0.001103</td>\n",
       "      <td>0.001103</td>\n",
       "      <td>0.001103</td>\n",
       "    </tr>\n",
       "    <tr>\n",
       "      <th>2010-01-14</th>\n",
       "      <td>1.4502</td>\n",
       "      <td>-0.000551</td>\n",
       "      <td>-1.0</td>\n",
       "      <td>0.001103</td>\n",
       "      <td>-0.001310</td>\n",
       "      <td>0.006984</td>\n",
       "      <td>0.006544</td>\n",
       "      <td>-0.006544</td>\n",
       "      <td>1</td>\n",
       "      <td>0</td>\n",
       "      <td>1</td>\n",
       "      <td>1</td>\n",
       "      <td>0</td>\n",
       "      <td>-1.0</td>\n",
       "      <td>-1.0</td>\n",
       "      <td>-1.0</td>\n",
       "      <td>0.000551</td>\n",
       "      <td>0.000551</td>\n",
       "      <td>0.000551</td>\n",
       "    </tr>\n",
       "    <tr>\n",
       "      <th>2010-01-15</th>\n",
       "      <td>1.4382</td>\n",
       "      <td>-0.008309</td>\n",
       "      <td>-1.0</td>\n",
       "      <td>-0.000551</td>\n",
       "      <td>0.001103</td>\n",
       "      <td>-0.001310</td>\n",
       "      <td>0.006984</td>\n",
       "      <td>0.006544</td>\n",
       "      <td>0</td>\n",
       "      <td>1</td>\n",
       "      <td>0</td>\n",
       "      <td>1</td>\n",
       "      <td>1</td>\n",
       "      <td>1.0</td>\n",
       "      <td>1.0</td>\n",
       "      <td>1.0</td>\n",
       "      <td>-0.008309</td>\n",
       "      <td>-0.008309</td>\n",
       "      <td>-0.008309</td>\n",
       "    </tr>\n",
       "  </tbody>\n",
       "</table>\n",
       "</div>"
      ],
      "text/plain": [
       "              EUR=   returns  direction     lag_1     lag_2     lag_3  \\\n",
       "Date                                                                    \n",
       "2010-01-11  1.4513  0.006984        1.0  0.006544 -0.006544  0.003058   \n",
       "2010-01-12  1.4494 -0.001310       -1.0  0.006984  0.006544 -0.006544   \n",
       "2010-01-13  1.4510  0.001103        1.0 -0.001310  0.006984  0.006544   \n",
       "2010-01-14  1.4502 -0.000551       -1.0  0.001103 -0.001310  0.006984   \n",
       "2010-01-15  1.4382 -0.008309       -1.0 -0.000551  0.001103 -0.001310   \n",
       "\n",
       "               lag_4     lag_5  lag_1_bin  lag_2_bin  lag_3_bin  lag_4_bin  \\\n",
       "Date                                                                         \n",
       "2010-01-11 -0.002988  0.006125          1          0          1          0   \n",
       "2010-01-12  0.003058 -0.002988          1          1          0          1   \n",
       "2010-01-13 -0.006544  0.003058          0          1          1          0   \n",
       "2010-01-14  0.006544 -0.006544          1          0          1          1   \n",
       "2010-01-15  0.006984  0.006544          0          1          0          1   \n",
       "\n",
       "            lag_5_bin  pos_log_reg  pos_gauss_nb  pos_svm  strat_log_reg  \\\n",
       "Date                                                                       \n",
       "2010-01-11          1         -1.0          -1.0      1.0      -0.006984   \n",
       "2010-01-12          0         -1.0          -1.0     -1.0       0.001310   \n",
       "2010-01-13          1          1.0           1.0      1.0       0.001103   \n",
       "2010-01-14          0         -1.0          -1.0     -1.0       0.000551   \n",
       "2010-01-15          1          1.0           1.0      1.0      -0.008309   \n",
       "\n",
       "            strat_gauss_nb  strat_svm  \n",
       "Date                                   \n",
       "2010-01-11       -0.006984   0.006984  \n",
       "2010-01-12        0.001310   0.001310  \n",
       "2010-01-13        0.001103   0.001103  \n",
       "2010-01-14        0.000551   0.000551  \n",
       "2010-01-15       -0.008309  -0.008309  "
      ]
     },
     "execution_count": 32,
     "metadata": {},
     "output_type": "execute_result"
    }
   ],
   "source": [
    "data.head()"
   ]
  },
  {
   "cell_type": "code",
   "execution_count": 33,
   "metadata": {},
   "outputs": [
    {
     "data": {
      "text/plain": [
       "['returns', 'strat_log_reg', 'strat_gauss_nb', 'strat_svm']"
      ]
     },
     "execution_count": 33,
     "metadata": {},
     "output_type": "execute_result"
    }
   ],
   "source": [
    "sel"
   ]
  },
  {
   "cell_type": "code",
   "execution_count": 34,
   "metadata": {},
   "outputs": [],
   "source": [
    "import lightgbm as lgb"
   ]
  },
  {
   "cell_type": "code",
   "execution_count": 36,
   "metadata": {},
   "outputs": [],
   "source": [
    "import numpy as np\n",
    "\n",
    "from sklearn.model_selection import train_test_split\n"
   ]
  },
  {
   "cell_type": "code",
   "execution_count": 38,
   "metadata": {},
   "outputs": [],
   "source": [
    "data['modified']=data.direction+1"
   ]
  },
  {
   "cell_type": "code",
   "execution_count": 39,
   "metadata": {},
   "outputs": [],
   "source": [
    "X_train, X_test, y_train, y_test=train_test_split(data[cols_], data['modified'], test_size=0.33, random_state=42)"
   ]
  },
  {
   "cell_type": "code",
   "execution_count": 40,
   "metadata": {},
   "outputs": [],
   "source": [
    "lgb_train=lgb.Dataset(X_train,y_train)\n",
    "lgb_eval=lgb.Dataset(X_test,y_test,reference=lgb_train)\n",
    "params = {    'objective': 'multiclass',\n",
    "    'num_class':3,\n",
    "    'metric': 'multi_logloss'}\n",
    "gbm=lgb.train(params,train_set=lgb_train,num_boost_round=20,\n",
    "             valid_sets=lgb_eval,early_stopping_rounds=5)\n",
    "ypred=gbm.predict(data[cols_bin])\n",
    "best_ = [np.argmax(line) for line in ypred]"
   ]
  },
  {
   "cell_type": "code",
   "execution_count": 42,
   "metadata": {},
   "outputs": [
    {
     "name": "stdout",
     "output_type": "stream",
     "text": [
      "[1]\tvalid_0's multi_logloss: 0.717162\n",
      "Training until validation scores don't improve for 5 rounds.\n",
      "[2]\tvalid_0's multi_logloss: 0.718707\n",
      "[3]\tvalid_0's multi_logloss: 0.720178\n",
      "[4]\tvalid_0's multi_logloss: 0.721021\n",
      "[5]\tvalid_0's multi_logloss: 0.722527\n",
      "[6]\tvalid_0's multi_logloss: 0.723879\n",
      "Early stopping, best iteration is:\n",
      "[1]\tvalid_0's multi_logloss: 0.717162\n"
     ]
    }
   ],
   "source": [
    "gbm=lgb.train(params,train_set=lgb_train,num_boost_round=20,\n",
    "             valid_sets=lgb_eval,early_stopping_rounds=5)"
   ]
  },
  {
   "cell_type": "code",
   "execution_count": 43,
   "metadata": {},
   "outputs": [],
   "source": [
    "ypred=gbm.predict(data[cols_])"
   ]
  },
  {
   "cell_type": "code",
   "execution_count": 44,
   "metadata": {},
   "outputs": [],
   "source": [
    "best_ = [np.argmax(line) for line in ypred]"
   ]
  },
  {
   "cell_type": "code",
   "execution_count": 45,
   "metadata": {},
   "outputs": [],
   "source": [
    "data['lightgbm']=best_"
   ]
  },
  {
   "cell_type": "code",
   "execution_count": 47,
   "metadata": {},
   "outputs": [],
   "source": [
    "data.lightgbm-=1"
   ]
  },
  {
   "cell_type": "code",
   "execution_count": 48,
   "metadata": {},
   "outputs": [],
   "source": [
    "data['lightgbmstrat']=data.lightgbm*data.returns"
   ]
  },
  {
   "cell_type": "code",
   "execution_count": 50,
   "metadata": {},
   "outputs": [],
   "source": [
    "sel.insert(-1,'lightgbmstrat')"
   ]
  },
  {
   "cell_type": "code",
   "execution_count": 53,
   "metadata": {},
   "outputs": [
    {
     "data": {
      "text/plain": [
       "returns           0.810644\n",
       "strat_log_reg     1.191997\n",
       "strat_gauss_nb    1.191997\n",
       "lightgbmstrat     7.525237\n",
       "strat_svm         1.869153\n",
       "dtype: float64"
      ]
     },
     "execution_count": 53,
     "metadata": {},
     "output_type": "execute_result"
    }
   ],
   "source": [
    "data[sel].sum().apply(np.exp)"
   ]
  },
  {
   "cell_type": "code",
   "execution_count": 54,
   "metadata": {},
   "outputs": [
    {
     "data": {
      "text/plain": [
       "<matplotlib.axes._subplots.AxesSubplot at 0x11efab906d8>"
      ]
     },
     "execution_count": 54,
     "metadata": {},
     "output_type": "execute_result"
    },
    {
     "data": {
      "image/png": "[encoded data removed]",
      "text/plain": [
       "<Figure size 720x432 with 1 Axes>"
      ]
     },
     "metadata": {
      "needs_background": "light"
     },
     "output_type": "display_data"
    }
   ],
   "source": [
    "data[sel].cumsum().apply(np.exp).plot(figsize=(10,6))"
   ]
  },
  {
   "cell_type": "code",
   "execution_count": 55,
   "metadata": {},
   "outputs": [],
   "source": [
    "mu=data.returns.mean()\n",
    "v=data['returns'].std()"
   ]
  },
  {
   "cell_type": "code",
   "execution_count": 56,
   "metadata": {},
   "outputs": [
    {
     "data": {
      "text/plain": [
       "[-0.00592426939887045, -9.498932088272995e-05, 0.005734290757104989]"
      ]
     },
     "execution_count": 56,
     "metadata": {},
     "output_type": "execute_result"
    }
   ],
   "source": [
    "bins=[mu-v,mu,mu+v]\n",
    "bins"
   ]
  },
  {
   "cell_type": "code",
   "execution_count": 57,
   "metadata": {},
   "outputs": [],
   "source": [
    "create_bins(data,bins)"
   ]
  },
  {
   "cell_type": "code",
   "execution_count": 58,
   "metadata": {},
   "outputs": [
    {
     "data": {
      "text/html": [
       "<div>\n",
       "<style scoped>\n",
       "    .dataframe tbody tr th:only-of-type {\n",
       "        vertical-align: middle;\n",
       "    }\n",
       "\n",
       "    .dataframe tbody tr th {\n",
       "        vertical-align: top;\n",
       "    }\n",
       "\n",
       "    .dataframe thead th {\n",
       "        text-align: right;\n",
       "    }\n",
       "</style>\n",
       "<table border=\"1\" class=\"dataframe\">\n",
       "  <thead>\n",
       "    <tr style=\"text-align: right;\">\n",
       "      <th></th>\n",
       "      <th>lag_1_bin</th>\n",
       "      <th>lag_2_bin</th>\n",
       "      <th>lag_3_bin</th>\n",
       "      <th>lag_4_bin</th>\n",
       "      <th>lag_5_bin</th>\n",
       "    </tr>\n",
       "    <tr>\n",
       "      <th>Date</th>\n",
       "      <th></th>\n",
       "      <th></th>\n",
       "      <th></th>\n",
       "      <th></th>\n",
       "      <th></th>\n",
       "    </tr>\n",
       "  </thead>\n",
       "  <tbody>\n",
       "    <tr>\n",
       "      <th>2010-01-11</th>\n",
       "      <td>3</td>\n",
       "      <td>0</td>\n",
       "      <td>2</td>\n",
       "      <td>1</td>\n",
       "      <td>3</td>\n",
       "    </tr>\n",
       "    <tr>\n",
       "      <th>2010-01-12</th>\n",
       "      <td>3</td>\n",
       "      <td>3</td>\n",
       "      <td>0</td>\n",
       "      <td>2</td>\n",
       "      <td>1</td>\n",
       "    </tr>\n",
       "    <tr>\n",
       "      <th>2010-01-13</th>\n",
       "      <td>1</td>\n",
       "      <td>3</td>\n",
       "      <td>3</td>\n",
       "      <td>0</td>\n",
       "      <td>2</td>\n",
       "    </tr>\n",
       "    <tr>\n",
       "      <th>2010-01-14</th>\n",
       "      <td>2</td>\n",
       "      <td>1</td>\n",
       "      <td>3</td>\n",
       "      <td>3</td>\n",
       "      <td>0</td>\n",
       "    </tr>\n",
       "    <tr>\n",
       "      <th>2010-01-15</th>\n",
       "      <td>1</td>\n",
       "      <td>2</td>\n",
       "      <td>1</td>\n",
       "      <td>3</td>\n",
       "      <td>3</td>\n",
       "    </tr>\n",
       "  </tbody>\n",
       "</table>\n",
       "</div>"
      ],
      "text/plain": [
       "            lag_1_bin  lag_2_bin  lag_3_bin  lag_4_bin  lag_5_bin\n",
       "Date                                                             \n",
       "2010-01-11          3          0          2          1          3\n",
       "2010-01-12          3          3          0          2          1\n",
       "2010-01-13          1          3          3          0          2\n",
       "2010-01-14          2          1          3          3          0\n",
       "2010-01-15          1          2          1          3          3"
      ]
     },
     "execution_count": 58,
     "metadata": {},
     "output_type": "execute_result"
    }
   ],
   "source": [
    "data[cols_bin].head()"
   ]
  },
  {
   "cell_type": "code",
   "execution_count": 62,
   "metadata": {},
   "outputs": [],
   "source": [
    "def lgbm(data):\n",
    "    X_train, X_test, y_train, y_test=train_test_split(data[cols_bin], data['modified'], test_size=0.33, random_state=42)\n",
    "    lgb_train=lgb.Dataset(X_train,y_train)\n",
    "    lgb_eval=lgb.Dataset(X_test,y_test,reference=lgb_train)\n",
    "    params = {    'objective': 'multiclass',\n",
    "        'num_class':3,\n",
    "        'metric': 'multi_logloss'}\n",
    "    gbm=lgb.train(params,train_set=lgb_train,num_boost_round=20,\n",
    "                 valid_sets=lgb_eval,early_stopping_rounds=5)\n",
    "    ypred=gbm.predict(data[cols_bin])\n",
    "    best_ = [np.argmax(line) for line in ypred]\n",
    "    return best_\n",
    "\n",
    "    "
   ]
  },
  {
   "cell_type": "code",
   "execution_count": 63,
   "metadata": {},
   "outputs": [
    {
     "name": "stderr",
     "output_type": "stream",
     "text": [
      "C:\\An\\lib\\site-packages\\sklearn\\linear_model\\logistic.py:432: FutureWarning: Default solver will be changed to 'lbfgs' in 0.22. Specify a solver to silence this warning.\n",
      "  FutureWarning)\n",
      "C:\\An\\lib\\site-packages\\sklearn\\linear_model\\logistic.py:469: FutureWarning: Default multi_class will be changed to 'auto' in 0.22. Specify the multi_class option to silence this warning.\n",
      "  \"this warning.\", FutureWarning)\n",
      "C:\\An\\lib\\site-packages\\sklearn\\svm\\base.py:193: FutureWarning: The default value of gamma will change from 'auto' to 'scale' in version 0.22 to account better for unscaled features. Set gamma explicitly to 'auto' or 'scale' to avoid this warning.\n",
      "  \"avoid this warning.\", FutureWarning)\n"
     ]
    }
   ],
   "source": [
    "fit_models(data)\n",
    "dposition(data)\n",
    "evaluate(data)"
   ]
  },
  {
   "cell_type": "code",
   "execution_count": 65,
   "metadata": {},
   "outputs": [
    {
     "name": "stdout",
     "output_type": "stream",
     "text": [
      "[1]\tvalid_0's multi_logloss: 0.717131\n",
      "Training until validation scores don't improve for 5 rounds.\n",
      "[2]\tvalid_0's multi_logloss: 0.717444\n",
      "[3]\tvalid_0's multi_logloss: 0.71812\n",
      "[4]\tvalid_0's multi_logloss: 0.718731\n",
      "[5]\tvalid_0's multi_logloss: 0.719332\n",
      "[6]\tvalid_0's multi_logloss: 0.719732\n",
      "Early stopping, best iteration is:\n",
      "[1]\tvalid_0's multi_logloss: 0.717131\n"
     ]
    }
   ],
   "source": [
    "ybest=lgbm(data)"
   ]
  },
  {
   "cell_type": "code",
   "execution_count": 66,
   "metadata": {},
   "outputs": [],
   "source": [
    "data['l']=ybest"
   ]
  },
  {
   "cell_type": "code",
   "execution_count": 68,
   "metadata": {},
   "outputs": [],
   "source": [
    "data.l-=1"
   ]
  },
  {
   "cell_type": "code",
   "execution_count": 69,
   "metadata": {},
   "outputs": [
    {
     "data": {
      "text/plain": [
       "Date\n",
       "2010-01-11    1\n",
       "2010-01-12   -1\n",
       "2010-01-13   -1\n",
       "2010-01-14   -1\n",
       "2010-01-15    1\n",
       "2010-01-18   -1\n",
       "2010-01-19   -1\n",
       "2010-01-20    1\n",
       "2010-01-21    1\n",
       "2010-01-22    1\n",
       "2010-01-25    1\n",
       "2010-01-26   -1\n",
       "2010-01-27    1\n",
       "2010-01-28    1\n",
       "2010-01-29    1\n",
       "2010-02-01    1\n",
       "2010-02-02   -1\n",
       "2010-02-03    1\n",
       "2010-02-04    1\n",
       "2010-02-05    1\n",
       "2010-02-08    1\n",
       "2010-02-09    1\n",
       "2010-02-10    1\n",
       "2010-02-11   -1\n",
       "2010-02-12    1\n",
       "2010-02-15    1\n",
       "2010-02-16    1\n",
       "2010-02-17    1\n",
       "2010-02-18    1\n",
       "2010-02-19   -1\n",
       "             ..\n",
       "2018-05-21    1\n",
       "2018-05-22   -1\n",
       "2018-05-23    1\n",
       "2018-05-24    1\n",
       "2018-05-25   -1\n",
       "2018-05-28    1\n",
       "2018-05-29    1\n",
       "2018-05-30   -1\n",
       "2018-05-31    1\n",
       "2018-06-01    1\n",
       "2018-06-04    1\n",
       "2018-06-05    1\n",
       "2018-06-06    1\n",
       "2018-06-07    1\n",
       "2018-06-08   -1\n",
       "2018-06-11    1\n",
       "2018-06-12   -1\n",
       "2018-06-13    1\n",
       "2018-06-14    1\n",
       "2018-06-15    1\n",
       "2018-06-18    1\n",
       "2018-06-19    1\n",
       "2018-06-20    1\n",
       "2018-06-21    1\n",
       "2018-06-22   -1\n",
       "2018-06-25    1\n",
       "2018-06-26   -1\n",
       "2018-06-27    1\n",
       "2018-06-28   -1\n",
       "2018-06-29   -1\n",
       "Name: l, Length: 2210, dtype: int64"
      ]
     },
     "execution_count": 69,
     "metadata": {},
     "output_type": "execute_result"
    }
   ],
   "source": []
  },
  {
   "cell_type": "code",
   "execution_count": 70,
   "metadata": {},
   "outputs": [],
   "source": [
    "data['ls']=data.l*data.returns"
   ]
  },
  {
   "cell_type": "code",
   "execution_count": 72,
   "metadata": {},
   "outputs": [],
   "source": [
    "sel.insert(-1,'ls')"
   ]
  },
  {
   "cell_type": "code",
   "execution_count": 73,
   "metadata": {},
   "outputs": [
    {
     "data": {
      "text/plain": [
       "returns           0.810644\n",
       "strat_log_reg     1.520599\n",
       "strat_gauss_nb    1.437281\n",
       "ls                3.168580\n",
       "strat_svm         4.126232\n",
       "dtype: float64"
      ]
     },
     "execution_count": 73,
     "metadata": {},
     "output_type": "execute_result"
    }
   ],
   "source": [
    "data[sel].sum().apply(np.exp)"
   ]
  },
  {
   "cell_type": "code",
   "execution_count": 74,
   "metadata": {},
   "outputs": [
    {
     "data": {
      "text/plain": [
       "<matplotlib.axes._subplots.AxesSubplot at 0x11efc1ad048>"
      ]
     },
     "execution_count": 74,
     "metadata": {},
     "output_type": "execute_result"
    },
    {
     "data": {
      "image/png": "[encoded data removed]",
      "text/plain": [
       "<Figure size 720x432 with 1 Axes>"
      ]
     },
     "metadata": {
      "needs_background": "light"
     },
     "output_type": "display_data"
    }
   ],
   "source": [
    "data[sel].cumsum().apply(np.exp).plot(figsize=(10, 6))"
   ]
  },
  {
   "cell_type": "code",
   "execution_count": 75,
   "metadata": {},
   "outputs": [],
   "source": [
    "from tsfresh.examples.robot_execution_failures import download_robot_execution_failures, \\\n",
    "    load_robot_execution_failures\n",
    "download_robot_execution_failures()\n",
    "timeseries, y = load_robot_execution_failures()"
   ]
  },
  {
   "cell_type": "code",
   "execution_count": 78,
   "metadata": {},
   "outputs": [
    {
     "data": {
      "text/html": [
       "<div>\n",
       "<style scoped>\n",
       "    .dataframe tbody tr th:only-of-type {\n",
       "        vertical-align: middle;\n",
       "    }\n",
       "\n",
       "    .dataframe tbody tr th {\n",
       "        vertical-align: top;\n",
       "    }\n",
       "\n",
       "    .dataframe thead th {\n",
       "        text-align: right;\n",
       "    }\n",
       "</style>\n",
       "<table border=\"1\" class=\"dataframe\">\n",
       "  <thead>\n",
       "    <tr style=\"text-align: right;\">\n",
       "      <th></th>\n",
       "      <th>id</th>\n",
       "      <th>time</th>\n",
       "      <th>F_x</th>\n",
       "      <th>F_y</th>\n",
       "      <th>F_z</th>\n",
       "      <th>T_x</th>\n",
       "      <th>T_y</th>\n",
       "      <th>T_z</th>\n",
       "    </tr>\n",
       "  </thead>\n",
       "  <tbody>\n",
       "    <tr>\n",
       "      <th>0</th>\n",
       "      <td>1</td>\n",
       "      <td>0</td>\n",
       "      <td>-1</td>\n",
       "      <td>-1</td>\n",
       "      <td>63</td>\n",
       "      <td>-3</td>\n",
       "      <td>-1</td>\n",
       "      <td>0</td>\n",
       "    </tr>\n",
       "    <tr>\n",
       "      <th>1</th>\n",
       "      <td>1</td>\n",
       "      <td>1</td>\n",
       "      <td>0</td>\n",
       "      <td>0</td>\n",
       "      <td>62</td>\n",
       "      <td>-3</td>\n",
       "      <td>-1</td>\n",
       "      <td>0</td>\n",
       "    </tr>\n",
       "    <tr>\n",
       "      <th>2</th>\n",
       "      <td>1</td>\n",
       "      <td>2</td>\n",
       "      <td>-1</td>\n",
       "      <td>-1</td>\n",
       "      <td>61</td>\n",
       "      <td>-3</td>\n",
       "      <td>0</td>\n",
       "      <td>0</td>\n",
       "    </tr>\n",
       "    <tr>\n",
       "      <th>3</th>\n",
       "      <td>1</td>\n",
       "      <td>3</td>\n",
       "      <td>-1</td>\n",
       "      <td>-1</td>\n",
       "      <td>63</td>\n",
       "      <td>-2</td>\n",
       "      <td>-1</td>\n",
       "      <td>0</td>\n",
       "    </tr>\n",
       "    <tr>\n",
       "      <th>4</th>\n",
       "      <td>1</td>\n",
       "      <td>4</td>\n",
       "      <td>-1</td>\n",
       "      <td>-1</td>\n",
       "      <td>63</td>\n",
       "      <td>-3</td>\n",
       "      <td>-1</td>\n",
       "      <td>0</td>\n",
       "    </tr>\n",
       "  </tbody>\n",
       "</table>\n",
       "</div>"
      ],
      "text/plain": [
       "   id  time  F_x  F_y  F_z  T_x  T_y  T_z\n",
       "0   1     0   -1   -1   63   -3   -1    0\n",
       "1   1     1    0    0   62   -3   -1    0\n",
       "2   1     2   -1   -1   61   -3    0    0\n",
       "3   1     3   -1   -1   63   -2   -1    0\n",
       "4   1     4   -1   -1   63   -3   -1    0"
      ]
     },
     "execution_count": 78,
     "metadata": {},
     "output_type": "execute_result"
    }
   ],
   "source": [
    "timeseries.head()"
   ]
  },
  {
   "cell_type": "code",
   "execution_count": null,
   "metadata": {},
   "outputs": [],
   "source": []
  },
  {
   "cell_type": "code",
   "execution_count": null,
   "metadata": {},
   "outputs": [],
   "source": []
  }
 ],
 "metadata": {
  "kernelspec": {
   "display_name": "Python 3",
   "language": "python",
   "name": "python3"
  },
  "language_info": {
   "codemirror_mode": {
    "name": "ipython",
    "version": 3
   },
   "file_extension": ".py",
   "mimetype": "text/x-python",
   "name": "python",
   "nbconvert_exporter": "python",
   "pygments_lexer": "ipython3",
   "version": "3.7.3"
  }
 },
 "nbformat": 4,
 "nbformat_minor": 2
}
